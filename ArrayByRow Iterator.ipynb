{
 "cells": [
  {
   "cell_type": "markdown",
   "metadata": {},
   "source": [
    "##  Array by Row Iterator"
   ]
  },
  {
   "cell_type": "markdown",
   "metadata": {},
   "source": [
    "This demo creates a custom iterator to return rows of an array.  Normally this is useless, array rows can be accessed directly by index. The use case here is an operation performed on rows of an array that we want to map() (from multiprocessing.Pool) onto multiple cores.  In this case we need an iterator to access the rows of the array that we can pass to map()."
   ]
  },
  {
   "cell_type": "code",
   "execution_count": 25,
   "metadata": {
    "collapsed": true
   },
   "outputs": [],
   "source": [
    "import numpy as np"
   ]
  },
  {
   "cell_type": "code",
   "execution_count": 26,
   "metadata": {
    "collapsed": true
   },
   "outputs": [],
   "source": [
    "a=np.random.randn(10,3)"
   ]
  },
  {
   "cell_type": "code",
   "execution_count": 27,
   "metadata": {},
   "outputs": [
    {
     "name": "stdout",
     "output_type": "stream",
     "text": [
      "(10, 3)\n"
     ]
    }
   ],
   "source": [
    "print (a.shape)"
   ]
  },
  {
   "cell_type": "code",
   "execution_count": 28,
   "metadata": {},
   "outputs": [],
   "source": [
    "class ArrayByRow(object):\n",
    "    def __init__(self, a):\n",
    "        self.array = a\n",
    "        self.index = 0\n",
    "        self.length = a.shape[0]        \n",
    "    #  Python 3: __iter__  Python 2: iter\n",
    "    def __iter__(self): return self\n",
    "    def __next__(self):\n",
    "        if self.index >= self.length:\n",
    "            raise StopIteration\n",
    "        this_one = self.index\n",
    "        self.index += 1\n",
    "        return self.array[this_one,:]"
   ]
  },
  {
   "cell_type": "code",
   "execution_count": 29,
   "metadata": {},
   "outputs": [],
   "source": [
    "aRow = ArrayByRow(a)"
   ]
  },
  {
   "cell_type": "code",
   "execution_count": 30,
   "metadata": {},
   "outputs": [
    {
     "name": "stdout",
     "output_type": "stream",
     "text": [
      "Index 0 Value [-0.49980766 -1.38302651  0.11533487]\n",
      "\n",
      "Index 1 Value [-0.26821221 -1.09012698 -1.70011212]\n",
      "\n",
      "Index 2 Value [ 0.83645504  1.96788311  0.50168339]\n",
      "\n",
      "Index 3 Value [ 1.10545827 -0.54970285  1.35990934]\n",
      "\n",
      "Index 4 Value [ 2.39269104 -0.00784193 -0.45178302]\n",
      "\n",
      "Index 5 Value [-0.94832246  0.8582951  -0.04908127]\n",
      "\n",
      "Index 6 Value [ 0.96308198  1.49324459  0.81817845]\n",
      "\n",
      "Index 7 Value [-1.19327438 -1.05849623  0.1907277 ]\n",
      "\n",
      "Index 8 Value [-0.3760167  -0.3819627   0.82390703]\n",
      "\n",
      "Index 9 Value [ 0.90575049  1.48050448 -1.29303415]\n",
      "\n"
     ]
    }
   ],
   "source": [
    "for i,r in enumerate(aRow):\n",
    "    print ('Index {} Value {}\\n'.format(i,r))"
   ]
  },
  {
   "cell_type": "code",
   "execution_count": 31,
   "metadata": {},
   "outputs": [
    {
     "name": "stdout",
     "output_type": "stream",
     "text": [
      "[[-0.49980766 -1.38302651  0.11533487]\n",
      " [-0.26821221 -1.09012698 -1.70011212]\n",
      " [ 0.83645504  1.96788311  0.50168339]\n",
      " [ 1.10545827 -0.54970285  1.35990934]\n",
      " [ 2.39269104 -0.00784193 -0.45178302]\n",
      " [-0.94832246  0.8582951  -0.04908127]\n",
      " [ 0.96308198  1.49324459  0.81817845]\n",
      " [-1.19327438 -1.05849623  0.1907277 ]\n",
      " [-0.3760167  -0.3819627   0.82390703]\n",
      " [ 0.90575049  1.48050448 -1.29303415]]\n"
     ]
    }
   ],
   "source": [
    "print(a)"
   ]
  },
  {
   "cell_type": "code",
   "execution_count": null,
   "metadata": {
    "collapsed": true
   },
   "outputs": [],
   "source": []
  }
 ],
 "metadata": {
  "kernelspec": {
   "display_name": "Python 3",
   "language": "python",
   "name": "python3"
  },
  "language_info": {
   "codemirror_mode": {
    "name": "ipython",
    "version": 3
   },
   "file_extension": ".py",
   "mimetype": "text/x-python",
   "name": "python",
   "nbconvert_exporter": "python",
   "pygments_lexer": "ipython3",
   "version": "3.6.3"
  }
 },
 "nbformat": 4,
 "nbformat_minor": 2
}
